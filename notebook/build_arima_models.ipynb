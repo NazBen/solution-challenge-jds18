{
 "cells": [
  {
   "cell_type": "markdown",
   "metadata": {},
   "source": [
    "# Build ARMA models\n",
    "\n",
    "This notebook aims at tuning the ARMA models for multiple train/test sample and get the $(p, q)$ with the lowest error on all folds."
   ]
  },
  {
   "cell_type": "code",
   "execution_count": 1,
   "metadata": {},
   "outputs": [
    {
     "name": "stderr",
     "output_type": "stream",
     "text": [
      "/home/D58174/anaconda/lib/python3.6/site-packages/statsmodels/compat/pandas.py:56: FutureWarning: The pandas.core.datetools module is deprecated and will be removed in a future version. Please use the pandas.tseries module instead.\n",
      "  from pandas.core import datetools\n"
     ]
    }
   ],
   "source": [
    "import pandas as pd\n",
    "import numpy as np\n",
    "import matplotlib.pyplot as plt\n",
    "import seaborn as sns\n",
    "import sys\n",
    "sys.path.append('../script/')\n",
    "\n",
    "from loading import load_data    \n",
    "from functions import mean_absolute_percentage_error, normalized_root_mean_squared_error\n",
    "from feature_functions import create_date_features\n",
    "from model_functions import create_local_train_test\n",
    "from model_functions import build_arma_model, pred_arma_train, pred_arma_test, build_arima_model\n",
    "import statsmodels.api as sm\n",
    "from model_functions import get_df_arma\n",
    "\n",
    "%load_ext autoreload\n",
    "%autoreload 2\n",
    "\n",
    "# Load the Data\n",
    "data = load_data()\n",
    "data.rename(columns={'puissance': 'y'}, inplace=True)\n",
    "data = data[data['date'] != '2015-09-13 00:00:00'].reset_index(drop=True)\n",
    "\n",
    "# Get the train\n",
    "train = data[data['type'] == 'train'].copy()\n",
    "test = data[data['type'] == 'test'].copy()\n",
    "train.drop('type', axis=1, inplace=True)\n",
    "test.drop('type', axis=1, inplace=True)\n",
    "train = pd.concat([train, test.iloc[[0]]])\n",
    "\n",
    "train['diff_y_h'] = train['y'].diff(1)"
   ]
  },
  {
   "cell_type": "code",
   "execution_count": 5,
   "metadata": {},
   "outputs": [],
   "source": [
    "def evaluate_model(n_test, train, test_size, target, params, maxiter=50):\n",
    "    train_size = train.shape[0]\n",
    "    mape_errors = []\n",
    "    nrmse_errors = []\n",
    "    for i in range(n_test):\n",
    "        start_test = train_size - test_size*(i+1)\n",
    "        end_test = start_test + test_size\n",
    "        local_train = train.iloc[:start_test].copy()\n",
    "        local_test = train.iloc[start_test:end_test].copy()\n",
    "\n",
    "        model = build_arima_model(local_train, target, params=params, adfuller_test=False, maxiter=maxiter)\n",
    "        local_train['y_hat_arma'] = pred_arma_train(model, local_train, local_test)\n",
    "        local_test['y_hat_arma'] = pred_arma_test(model, local_train, local_test, target)\n",
    "        local_train['error_arma'] = local_train['y'] - local_train['y_hat_arma']\n",
    "        local_test['error_arma'] = local_test['y'] - local_test['y_hat_arma']\n",
    "\n",
    "        mape_arma = mean_absolute_percentage_error(local_test['y'], local_test['y_hat_arma'])\n",
    "        nrmse_arma = normalized_root_mean_squared_error(local_test['y'], local_test['y_hat_arma'])\n",
    "        \n",
    "        mape_errors.append(mape_arma)\n",
    "        nrmse_errors.append(nrmse_arma)\n",
    "    return mape_errors, nrmse_errors"
   ]
  },
  {
   "cell_type": "code",
   "execution_count": null,
   "metadata": {},
   "outputs": [
    {
     "name": "stdout",
     "output_type": "stream",
     "text": [
      "Computing ARIMA for p=22, d=0, q=22\n",
      "\n",
      "ADF Statistic: -17.374665\n",
      "p-value: 0.000000\n",
      "Critical Values:\n",
      "\t1%: -3.431\n",
      "\t5%: -2.862\n",
      "\t10%: -2.567\n",
      "Loading...\n"
     ]
    },
    {
     "name": "stderr",
     "output_type": "stream",
     "text": [
      "/home/D58174/anaconda/lib/python3.6/site-packages/statsmodels/tsa/kalmanf/kalmanfilter.py:577: FutureWarning: Conversion of the second argument of issubdtype from `float` to `np.floating` is deprecated. In future, it will be treated as `np.float64 == np.dtype(float).type`.\n",
      "  if issubdtype(paramsdtype, float):\n"
     ]
    },
    {
     "name": "stdout",
     "output_type": "stream",
     "text": [
      "Can't compute for p=22, d=0, q=22\n",
      "\n",
      "Computing ARIMA for p=23, d=0, q=22\n",
      "\n",
      "ADF Statistic: -17.374665\n",
      "p-value: 0.000000\n",
      "Critical Values:\n",
      "\t1%: -3.431\n",
      "\t5%: -2.862\n",
      "\t10%: -2.567\n",
      "Loading...\n",
      "Can't compute for p=23, d=0, q=22\n",
      "\n",
      "Computing ARIMA for p=24, d=0, q=22\n",
      "\n",
      "ADF Statistic: -17.374665\n",
      "p-value: 0.000000\n",
      "Critical Values:\n",
      "\t1%: -3.431\n",
      "\t5%: -2.862\n",
      "\t10%: -2.567\n",
      "Loading...\n",
      "Can't compute for p=24, d=0, q=22\n",
      "\n",
      "Computing ARIMA for p=25, d=0, q=22\n",
      "\n",
      "ADF Statistic: -17.374665\n",
      "p-value: 0.000000\n",
      "Critical Values:\n",
      "\t1%: -3.431\n",
      "\t5%: -2.862\n",
      "\t10%: -2.567\n",
      "Can't compute for p=25, d=0, q=22\n",
      "\n",
      "Computing ARIMA for p=26, d=0, q=22\n",
      "\n",
      "ADF Statistic: -17.374665\n",
      "p-value: 0.000000\n",
      "Critical Values:\n",
      "\t1%: -3.431\n",
      "\t5%: -2.862\n",
      "\t10%: -2.567\n",
      "Can't compute for p=26, d=0, q=22\n",
      "\n",
      "Computing ARIMA for p=22, d=0, q=23\n",
      "\n",
      "ADF Statistic: -17.374665\n",
      "p-value: 0.000000\n",
      "Critical Values:\n",
      "\t1%: -3.431\n",
      "\t5%: -2.862\n",
      "\t10%: -2.567\n"
     ]
    },
    {
     "name": "stderr",
     "output_type": "stream",
     "text": [
      "/home/D58174/anaconda/lib/python3.6/site-packages/statsmodels/tsa/kalmanf/kalmanfilter.py:646: FutureWarning: Conversion of the second argument of issubdtype from `float` to `np.floating` is deprecated. In future, it will be treated as `np.float64 == np.dtype(float).type`.\n",
      "  if issubdtype(paramsdtype, float):\n",
      "/home/D58174/anaconda/lib/python3.6/site-packages/statsmodels/tsa/kalmanf/kalmanfilter.py:650: FutureWarning: Conversion of the second argument of issubdtype from `complex` to `np.complexfloating` is deprecated. In future, it will be treated as `np.complex128 == np.dtype(complex).type`.\n",
      "  elif issubdtype(paramsdtype, complex):\n"
     ]
    },
    {
     "name": "stdout",
     "output_type": "stream",
     "text": [
      "Warning: Maximum number of iterations has been exceeded.\n",
      "         Current function value: 4.756995\n",
      "         Iterations: 100\n",
      "         Function evaluations: 108\n",
      "         Gradient evaluations: 108\n"
     ]
    },
    {
     "name": "stderr",
     "output_type": "stream",
     "text": [
      "/home/D58174/anaconda/lib/python3.6/site-packages/statsmodels/base/model.py:473: HessianInversionWarning: Inverting hessian failed, no bse or cov_params available\n",
      "  'available', HessianInversionWarning)\n",
      "/home/D58174/anaconda/lib/python3.6/site-packages/statsmodels/base/model.py:496: ConvergenceWarning: Maximum Likelihood optimization failed to converge. Check mle_retvals\n",
      "  \"Check mle_retvals\", ConvergenceWarning)\n"
     ]
    },
    {
     "name": "stdout",
     "output_type": "stream",
     "text": [
      "Can't compute for p=22, d=0, q=23\n",
      "\n",
      "Computing ARIMA for p=23, d=0, q=23\n",
      "\n",
      "ADF Statistic: -17.374665\n",
      "p-value: 0.000000\n",
      "Critical Values:\n",
      "\t1%: -3.431\n",
      "\t5%: -2.862\n",
      "\t10%: -2.567\n",
      "Warning: Maximum number of iterations has been exceeded.\n",
      "         Current function value: 4.709322\n",
      "         Iterations: 100\n",
      "         Function evaluations: 107\n",
      "         Gradient evaluations: 107\n"
     ]
    },
    {
     "name": "stderr",
     "output_type": "stream",
     "text": [
      "/home/D58174/anaconda/lib/python3.6/site-packages/statsmodels/base/model.py:496: ConvergenceWarning: Maximum Likelihood optimization failed to converge. Check mle_retvals\n",
      "  \"Check mle_retvals\", ConvergenceWarning)\n"
     ]
    },
    {
     "name": "stdout",
     "output_type": "stream",
     "text": [
      "Can't compute for p=23, d=0, q=23\n",
      "\n",
      "Computing ARIMA for p=24, d=0, q=23\n",
      "\n",
      "ADF Statistic: -17.374665\n",
      "p-value: 0.000000\n",
      "Critical Values:\n",
      "\t1%: -3.431\n",
      "\t5%: -2.862\n",
      "\t10%: -2.567\n",
      "Warning: Maximum number of iterations has been exceeded.\n",
      "         Current function value: 4.709157\n",
      "         Iterations: 100\n",
      "         Function evaluations: 105\n",
      "         Gradient evaluations: 105\n"
     ]
    },
    {
     "name": "stderr",
     "output_type": "stream",
     "text": [
      "/home/D58174/anaconda/lib/python3.6/site-packages/statsmodels/base/model.py:496: ConvergenceWarning: Maximum Likelihood optimization failed to converge. Check mle_retvals\n",
      "  \"Check mle_retvals\", ConvergenceWarning)\n"
     ]
    },
    {
     "name": "stdout",
     "output_type": "stream",
     "text": [
      "Can't compute for p=24, d=0, q=23\n",
      "\n",
      "Computing ARIMA for p=25, d=0, q=23\n",
      "\n",
      "ADF Statistic: -17.374665\n",
      "p-value: 0.000000\n",
      "Critical Values:\n",
      "\t1%: -3.431\n",
      "\t5%: -2.862\n",
      "\t10%: -2.567\n",
      "Can't compute for p=25, d=0, q=23\n",
      "\n",
      "Computing ARIMA for p=26, d=0, q=23\n",
      "\n",
      "ADF Statistic: -17.374665\n",
      "p-value: 0.000000\n",
      "Critical Values:\n",
      "\t1%: -3.431\n",
      "\t5%: -2.862\n",
      "\t10%: -2.567\n",
      "Can't compute for p=26, d=0, q=23\n",
      "\n",
      "Computing ARIMA for p=22, d=0, q=24\n",
      "\n",
      "ADF Statistic: -17.374665\n",
      "p-value: 0.000000\n",
      "Critical Values:\n",
      "\t1%: -3.431\n",
      "\t5%: -2.862\n",
      "\t10%: -2.567\n",
      "Warning: Maximum number of iterations has been exceeded.\n",
      "         Current function value: 4.756586\n",
      "         Iterations: 100\n",
      "         Function evaluations: 107\n",
      "         Gradient evaluations: 107\n"
     ]
    },
    {
     "name": "stderr",
     "output_type": "stream",
     "text": [
      "/home/D58174/anaconda/lib/python3.6/site-packages/statsmodels/base/model.py:496: ConvergenceWarning: Maximum Likelihood optimization failed to converge. Check mle_retvals\n",
      "  \"Check mle_retvals\", ConvergenceWarning)\n",
      "/home/D58174/anaconda/lib/python3.6/site-packages/statsmodels/tsa/arima_model.py:1441: RuntimeWarning: invalid value encountered in sqrt\n",
      "  return np.sqrt(np.diag(-inv(hess)))\n",
      "/home/D58174/anaconda/lib/python3.6/site-packages/scipy/stats/_distn_infrastructure.py:879: RuntimeWarning: invalid value encountered in greater\n",
      "  return (self.a < x) & (x < self.b)\n",
      "/home/D58174/anaconda/lib/python3.6/site-packages/scipy/stats/_distn_infrastructure.py:879: RuntimeWarning: invalid value encountered in less\n",
      "  return (self.a < x) & (x < self.b)\n",
      "/home/D58174/anaconda/lib/python3.6/site-packages/scipy/stats/_distn_infrastructure.py:1821: RuntimeWarning: invalid value encountered in less_equal\n",
      "  cond2 = cond0 & (x <= self.a)\n"
     ]
    },
    {
     "name": "stdout",
     "output_type": "stream",
     "text": [
      "Can't compute for p=22, d=0, q=24\n",
      "\n",
      "Computing ARIMA for p=23, d=0, q=24\n",
      "\n",
      "ADF Statistic: -17.374665\n",
      "p-value: 0.000000\n",
      "Critical Values:\n",
      "\t1%: -3.431\n",
      "\t5%: -2.862\n",
      "\t10%: -2.567\n",
      "Can't compute for p=23, d=0, q=24\n",
      "\n",
      "Computing ARIMA for p=24, d=0, q=24\n",
      "\n",
      "ADF Statistic: -17.374665\n",
      "p-value: 0.000000\n",
      "Critical Values:\n",
      "\t1%: -3.431\n",
      "\t5%: -2.862\n",
      "\t10%: -2.567\n",
      "Loading...\n",
      "Can't compute for p=24, d=0, q=24\n",
      "\n",
      "Computing ARIMA for p=25, d=0, q=24\n",
      "\n",
      "ADF Statistic: -17.374665\n",
      "p-value: 0.000000\n",
      "Critical Values:\n",
      "\t1%: -3.431\n",
      "\t5%: -2.862\n",
      "\t10%: -2.567\n",
      "Warning: Maximum number of iterations has been exceeded.\n",
      "         Current function value: 4.701789\n",
      "         Iterations: 100\n",
      "         Function evaluations: 104\n",
      "         Gradient evaluations: 104\n"
     ]
    },
    {
     "name": "stderr",
     "output_type": "stream",
     "text": [
      "/home/D58174/anaconda/lib/python3.6/site-packages/statsmodels/base/model.py:496: ConvergenceWarning: Maximum Likelihood optimization failed to converge. Check mle_retvals\n",
      "  \"Check mle_retvals\", ConvergenceWarning)\n"
     ]
    },
    {
     "name": "stdout",
     "output_type": "stream",
     "text": [
      "Can't compute for p=25, d=0, q=24\n",
      "\n",
      "Computing ARIMA for p=26, d=0, q=24\n",
      "\n",
      "ADF Statistic: -17.374665\n",
      "p-value: 0.000000\n",
      "Critical Values:\n",
      "\t1%: -3.431\n",
      "\t5%: -2.862\n",
      "\t10%: -2.567\n"
     ]
    }
   ],
   "source": [
    "test_size = test.shape[0] - 1\n",
    "train_size = train.shape[0]\n",
    "n_test = 5\n",
    "maxiter = 100\n",
    "target = 'diff_y_h'\n",
    "\n",
    "mape_errors = {}\n",
    "nrmse_errors = {}\n",
    "for q in range(22, 27):\n",
    "    for d in range(1):\n",
    "        for p in range(22, 27):\n",
    "            if (p > 0) or (q > 0):\n",
    "                params = (p, d, q)\n",
    "                try:\n",
    "                    print(\"Computing ARIMA for p=%d, d=%d, q=%d\\n\" % (params))\n",
    "                    mape_error, nrmse_error = evaluate_model(n_test, train, test_size, target, params, maxiter=maxiter)\n",
    "                    mape_errors[p, d, q] = mape_error\n",
    "                    nrmse_errors[p, d, q] = nrmse_error\n",
    "                    print('MAPE: %.2f%%' % (np.mean(mape_error)))\n",
    "                    print('NRMSE: %.2f%%' % (np.mean(nrmse_error)))\n",
    "                except ValueError:\n",
    "                    print(\"Can't compute for p=%d, d=%d, q=%d\" % (params))\n",
    "                print()"
   ]
  },
  {
   "cell_type": "code",
   "execution_count": null,
   "metadata": {},
   "outputs": [],
   "source": []
  }
 ],
 "metadata": {
  "kernelspec": {
   "display_name": "Python 3",
   "language": "python",
   "name": "python3"
  },
  "language_info": {
   "codemirror_mode": {
    "name": "ipython",
    "version": 3
   },
   "file_extension": ".py",
   "mimetype": "text/x-python",
   "name": "python",
   "nbconvert_exporter": "python",
   "pygments_lexer": "ipython3",
   "version": "3.6.3"
  }
 },
 "nbformat": 4,
 "nbformat_minor": 2
}
